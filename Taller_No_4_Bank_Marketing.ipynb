{
  "nbformat": 4,
  "nbformat_minor": 0,
  "metadata": {
    "colab": {
      "name": "Taller No. 4 - Bank Marketing.ipynb",
      "provenance": [],
      "toc_visible": true,
      "authorship_tag": "ABX9TyNCrYpk/IrC533VGyoM5pgB",
      "include_colab_link": true
    },
    "kernelspec": {
      "name": "python3",
      "display_name": "Python 3"
    }
  },
  "cells": [
    {
      "cell_type": "markdown",
      "metadata": {
        "id": "view-in-github",
        "colab_type": "text"
      },
      "source": [
        "<a href=\"https://colab.research.google.com/github/japarra27/cda-projects/blob/master/Taller_No_4_Bank_Marketing.ipynb\" target=\"_parent\"><img src=\"https://colab.research.google.com/assets/colab-badge.svg\" alt=\"Open In Colab\"/></a>"
      ]
    },
    {
      "cell_type": "markdown",
      "metadata": {
        "id": "d6UQLmBH6_PE",
        "colab_type": "text"
      },
      "source": [
        "# Laboratorio No. 4 - Bank Marketing\n",
        "\n",
        "***Presentado por:*** Jaime Andrés Parra Mora"
      ]
    },
    {
      "cell_type": "markdown",
      "metadata": {
        "id": "6kyNUyh_8Rk7",
        "colab_type": "text"
      },
      "source": [
        "# Objetivo\n",
        "\n",
        "En una entidad financiera de Portugal, se realizó una estrategia comercial con el fin de vender suscripciones de depósitos a plazo, esta campaña comercial se realizó mediante el uso de call center (cada cliente potencial fue contactado por llamada), con el fin de diseñar una nueva estrategia comercial más dirigida, y que optimice costos, la entidad financiera recolectó todos los resultados de sus campañas vía telefónica. Los datos se encuentran en el link https://archive.ics.uci.edu/ml/datasets/bank+marketing junto a la descripción de las variables.\n",
        "\n",
        "## Actividades en clase\n",
        "\n",
        "1. Realice una lectura de los datos utilizando Jupyter Notebook.\n",
        "2. Realice un perfilamiento de los datos (usar pandas profiling) y describa el entendimiento del negocio a partir de este.\n",
        "3. Realice un proceso de limpieza de los datos en caso de ser necesario, justifique su respuesta.\n",
        "4. Plantee una hipótesis de interés para el negocio que al resolverlas puedan abarcar el problema planteado por la entidad financiera.\n",
        "5. A partir de los datos, valide su hipótesis.\n",
        "\n",
        "## Actividades Individuales\n",
        "\n",
        "1. Entregar en un jupyter notebook el numeral 1,2 y 3.\n",
        "2. Plantee cuatro hipótesis de interés para el negocio que al resolverlas puedan abarcar el problema planteado por la entidad financiera. Justifique su respuesta en términos de los datos y análisis realizados para definirlas.\n",
        "3. Valide por lo menos dos hipótesis planteadas en el ítem anterior, para ello, puede utilizar la práctica de correlaciones y pruebas chi cuadrado.\n",
        "4. Teniendo en cuenta los resultados del punto 3, plantee una estrategia que permita a la entidad financiera vender más depósitos a plazo."
      ]
    },
    {
      "cell_type": "markdown",
      "metadata": {
        "id": "rJqTv9e48ldi",
        "colab_type": "text"
      },
      "source": [
        "# Solución propuesta"
      ]
    },
    {
      "cell_type": "code",
      "metadata": {
        "id": "pJxCX15X86qj",
        "colab_type": "code",
        "colab": {}
      },
      "source": [
        "# Instalación de pandas-profiling\n",
        "# ! pip install https://github.com/pandas-profiling/pandas-profiling/archive/master.zip"
      ],
      "execution_count": null,
      "outputs": []
    },
    {
      "cell_type": "code",
      "metadata": {
        "id": "bNLm_IPp-RDc",
        "colab_type": "code",
        "colab": {}
      },
      "source": [
        "# Montar drive\n"
      ],
      "execution_count": null,
      "outputs": []
    },
    {
      "cell_type": "code",
      "metadata": {
        "id": "seDvEdLU-VZX",
        "colab_type": "code",
        "colab": {}
      },
      "source": [
        "from google.colab import drive\n",
        "drive.mount('/content/drive')"
      ],
      "execution_count": null,
      "outputs": []
    },
    {
      "cell_type": "code",
      "metadata": {
        "id": "EywhBlj683eD",
        "colab_type": "code",
        "colab": {
          "base_uri": "https://localhost:8080/",
          "height": 51
        },
        "outputId": "a5cecd58-bd06-4b44-dd48-e3951d8854e1"
      },
      "source": [
        "# Importar librerias\n",
        "import pandas as pd\n",
        "import numpy as np\n",
        "import pandas_profiling\n",
        "import seaborn as sns\n",
        "import matplotlib.pyplot as plt\n",
        "from scipy.stats import chi2_contingency"
      ],
      "execution_count": 1,
      "outputs": [
        {
          "output_type": "stream",
          "text": [
            "/usr/local/lib/python3.6/dist-packages/statsmodels/tools/_testing.py:19: FutureWarning: pandas.util.testing is deprecated. Use the functions in the public API at pandas.testing instead.\n",
            "  import pandas.util.testing as tm\n"
          ],
          "name": "stderr"
        }
      ]
    },
    {
      "cell_type": "code",
      "metadata": {
        "id": "tu-1SLtR-O0t",
        "colab_type": "code",
        "colab": {}
      },
      "source": [
        ""
      ],
      "execution_count": null,
      "outputs": []
    }
  ]
}