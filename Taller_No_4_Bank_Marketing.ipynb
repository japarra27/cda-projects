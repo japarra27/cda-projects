{
  "nbformat": 4,
  "nbformat_minor": 0,
  "metadata": {
    "colab": {
      "name": "Taller No. 4 - Bank Marketing.ipynb",
      "provenance": [],
      "collapsed_sections": [],
      "mount_file_id": "1J60Hl5CG2L-dbadqLCG9nIyoaKEBCJc7",
      "authorship_tag": "ABX9TyNfgOT8MB5JKNVvvl07bEOW",
      "include_colab_link": true
    },
    "kernelspec": {
      "name": "python3",
      "display_name": "Python 3"
    },
    "widgets": {
      "application/vnd.jupyter.widget-state+json": {
        "197ed799190246eb821decf3b5070ce8": {
          "model_module": "@jupyter-widgets/controls",
          "model_name": "HBoxModel",
          "state": {
            "_view_name": "HBoxView",
            "_dom_classes": [],
            "_model_name": "HBoxModel",
            "_view_module": "@jupyter-widgets/controls",
            "_model_module_version": "1.5.0",
            "_view_count": null,
            "_view_module_version": "1.5.0",
            "box_style": "",
            "layout": "IPY_MODEL_96a62edba9694656b85423ed2d82f424",
            "_model_module": "@jupyter-widgets/controls",
            "children": [
              "IPY_MODEL_95a1a49b8401499dba198559d85828c4",
              "IPY_MODEL_b98a8f99f16b46beaafdf3c7994c183b"
            ]
          }
        },
        "96a62edba9694656b85423ed2d82f424": {
          "model_module": "@jupyter-widgets/base",
          "model_name": "LayoutModel",
          "state": {
            "_view_name": "LayoutView",
            "grid_template_rows": null,
            "right": null,
            "justify_content": null,
            "_view_module": "@jupyter-widgets/base",
            "overflow": null,
            "_model_module_version": "1.2.0",
            "_view_count": null,
            "flex_flow": null,
            "width": null,
            "min_width": null,
            "border": null,
            "align_items": null,
            "bottom": null,
            "_model_module": "@jupyter-widgets/base",
            "top": null,
            "grid_column": null,
            "overflow_y": null,
            "overflow_x": null,
            "grid_auto_flow": null,
            "grid_area": null,
            "grid_template_columns": null,
            "flex": null,
            "_model_name": "LayoutModel",
            "justify_items": null,
            "grid_row": null,
            "max_height": null,
            "align_content": null,
            "visibility": null,
            "align_self": null,
            "height": null,
            "min_height": null,
            "padding": null,
            "grid_auto_rows": null,
            "grid_gap": null,
            "max_width": null,
            "order": null,
            "_view_module_version": "1.2.0",
            "grid_template_areas": null,
            "object_position": null,
            "object_fit": null,
            "grid_auto_columns": null,
            "margin": null,
            "display": null,
            "left": null
          }
        },
        "95a1a49b8401499dba198559d85828c4": {
          "model_module": "@jupyter-widgets/controls",
          "model_name": "FloatProgressModel",
          "state": {
            "_view_name": "ProgressView",
            "style": "IPY_MODEL_2d426fff87c548e491ab33e0051f0521",
            "_dom_classes": [],
            "description": "Summarize dataset:  91%",
            "_model_name": "FloatProgressModel",
            "bar_style": "",
            "max": 35,
            "_view_module": "@jupyter-widgets/controls",
            "_model_module_version": "1.5.0",
            "value": 32,
            "_view_count": null,
            "_view_module_version": "1.5.0",
            "orientation": "horizontal",
            "min": 0,
            "description_tooltip": null,
            "_model_module": "@jupyter-widgets/controls",
            "layout": "IPY_MODEL_425f86a69a7c4f51a0bd0e8bf02fdb16"
          }
        },
        "b98a8f99f16b46beaafdf3c7994c183b": {
          "model_module": "@jupyter-widgets/controls",
          "model_name": "HTMLModel",
          "state": {
            "_view_name": "HTMLView",
            "style": "IPY_MODEL_3339e2118ef24ded9cc9c43388887731",
            "_dom_classes": [],
            "description": "",
            "_model_name": "HTMLModel",
            "placeholder": "​",
            "_view_module": "@jupyter-widgets/controls",
            "_model_module_version": "1.5.0",
            "value": " 32/35 [00:26&lt;00:12,  4.13s/it, Locating duplicates]",
            "_view_count": null,
            "_view_module_version": "1.5.0",
            "description_tooltip": null,
            "_model_module": "@jupyter-widgets/controls",
            "layout": "IPY_MODEL_ff4d6e4885044dc8b340fa532c754375"
          }
        },
        "2d426fff87c548e491ab33e0051f0521": {
          "model_module": "@jupyter-widgets/controls",
          "model_name": "ProgressStyleModel",
          "state": {
            "_view_name": "StyleView",
            "_model_name": "ProgressStyleModel",
            "description_width": "initial",
            "_view_module": "@jupyter-widgets/base",
            "_model_module_version": "1.5.0",
            "_view_count": null,
            "_view_module_version": "1.2.0",
            "bar_color": null,
            "_model_module": "@jupyter-widgets/controls"
          }
        },
        "425f86a69a7c4f51a0bd0e8bf02fdb16": {
          "model_module": "@jupyter-widgets/base",
          "model_name": "LayoutModel",
          "state": {
            "_view_name": "LayoutView",
            "grid_template_rows": null,
            "right": null,
            "justify_content": null,
            "_view_module": "@jupyter-widgets/base",
            "overflow": null,
            "_model_module_version": "1.2.0",
            "_view_count": null,
            "flex_flow": null,
            "width": null,
            "min_width": null,
            "border": null,
            "align_items": null,
            "bottom": null,
            "_model_module": "@jupyter-widgets/base",
            "top": null,
            "grid_column": null,
            "overflow_y": null,
            "overflow_x": null,
            "grid_auto_flow": null,
            "grid_area": null,
            "grid_template_columns": null,
            "flex": null,
            "_model_name": "LayoutModel",
            "justify_items": null,
            "grid_row": null,
            "max_height": null,
            "align_content": null,
            "visibility": null,
            "align_self": null,
            "height": null,
            "min_height": null,
            "padding": null,
            "grid_auto_rows": null,
            "grid_gap": null,
            "max_width": null,
            "order": null,
            "_view_module_version": "1.2.0",
            "grid_template_areas": null,
            "object_position": null,
            "object_fit": null,
            "grid_auto_columns": null,
            "margin": null,
            "display": null,
            "left": null
          }
        },
        "3339e2118ef24ded9cc9c43388887731": {
          "model_module": "@jupyter-widgets/controls",
          "model_name": "DescriptionStyleModel",
          "state": {
            "_view_name": "StyleView",
            "_model_name": "DescriptionStyleModel",
            "description_width": "",
            "_view_module": "@jupyter-widgets/base",
            "_model_module_version": "1.5.0",
            "_view_count": null,
            "_view_module_version": "1.2.0",
            "_model_module": "@jupyter-widgets/controls"
          }
        },
        "ff4d6e4885044dc8b340fa532c754375": {
          "model_module": "@jupyter-widgets/base",
          "model_name": "LayoutModel",
          "state": {
            "_view_name": "LayoutView",
            "grid_template_rows": null,
            "right": null,
            "justify_content": null,
            "_view_module": "@jupyter-widgets/base",
            "overflow": null,
            "_model_module_version": "1.2.0",
            "_view_count": null,
            "flex_flow": null,
            "width": null,
            "min_width": null,
            "border": null,
            "align_items": null,
            "bottom": null,
            "_model_module": "@jupyter-widgets/base",
            "top": null,
            "grid_column": null,
            "overflow_y": null,
            "overflow_x": null,
            "grid_auto_flow": null,
            "grid_area": null,
            "grid_template_columns": null,
            "flex": null,
            "_model_name": "LayoutModel",
            "justify_items": null,
            "grid_row": null,
            "max_height": null,
            "align_content": null,
            "visibility": null,
            "align_self": null,
            "height": null,
            "min_height": null,
            "padding": null,
            "grid_auto_rows": null,
            "grid_gap": null,
            "max_width": null,
            "order": null,
            "_view_module_version": "1.2.0",
            "grid_template_areas": null,
            "object_position": null,
            "object_fit": null,
            "grid_auto_columns": null,
            "margin": null,
            "display": null,
            "left": null
          }
        }
      }
    }
  },
  "cells": [
    {
      "cell_type": "markdown",
      "metadata": {
        "id": "view-in-github",
        "colab_type": "text"
      },
      "source": [
        "<a href=\"https://colab.research.google.com/github/japarra27/cda-projects/blob/master/Taller_No_4_Bank_Marketing.ipynb\" target=\"_parent\"><img src=\"https://colab.research.google.com/assets/colab-badge.svg\" alt=\"Open In Colab\"/></a>"
      ]
    },
    {
      "cell_type": "markdown",
      "metadata": {
        "id": "d6UQLmBH6_PE",
        "colab_type": "text"
      },
      "source": [
        "# Laboratorio No. 4 - Bank Marketing\n",
        "\n",
        "***Presentado por:*** Jaime Andrés Parra Mora"
      ]
    },
    {
      "cell_type": "markdown",
      "metadata": {
        "id": "6kyNUyh_8Rk7",
        "colab_type": "text"
      },
      "source": [
        "# Objetivo\n",
        "\n",
        "En una entidad financiera de Portugal, se realizó una estrategia comercial con el fin de vender suscripciones de depósitos a plazo, esta campaña comercial se realizó mediante el uso de call center (cada cliente potencial fue contactado por llamada), con el fin de diseñar una nueva estrategia comercial más dirigida, y que optimice costos, la entidad financiera recolectó todos los resultados de sus campañas vía telefónica. Los datos se encuentran en el link https://archive.ics.uci.edu/ml/datasets/bank+marketing junto a la descripción de las variables.\n",
        "\n",
        "## Actividades en clase\n",
        "\n",
        "1. Realice una lectura de los datos utilizando Jupyter Notebook.\n",
        "2. Realice un perfilamiento de los datos (usar pandas profiling) y describa el entendimiento del negocio a partir de este.\n",
        "3. Realice un proceso de limpieza de los datos en caso de ser necesario, justifique su respuesta.\n",
        "4. Plantee una hipótesis de interés para el negocio que al resolverlas puedan abarcar el problema planteado por la entidad financiera.\n",
        "5. A partir de los datos, valide su hipótesis.\n",
        "\n",
        "## Actividades Individuales\n",
        "\n",
        "1. Entregar en un jupyter notebook el numeral 1,2 y 3.\n",
        "2. Plantee cuatro hipótesis de interés para el negocio que al resolverlas puedan abarcar el problema planteado por la entidad financiera. Justifique su respuesta en términos de los datos y análisis realizados para definirlas.\n",
        "3. Valide por lo menos dos hipótesis planteadas en el ítem anterior, para ello, puede utilizar la práctica de correlaciones y pruebas chi cuadrado.\n",
        "4. Teniendo en cuenta los resultados del punto 3, plantee una estrategia que permita a la entidad financiera vender más depósitos a plazo."
      ]
    },
    {
      "cell_type": "markdown",
      "metadata": {
        "id": "-ydRCEVdEB4Q",
        "colab_type": "text"
      },
      "source": [
        "## Diccionario de datos\n",
        "\n",
        "Fuente: https://archive.ics.uci.edu/ml/datasets/bank+marketing\n",
        "\n",
        "### Input variables:\n",
        "#### bank client data:\n",
        "1. age (numeric)\n",
        "2. job : type of job (categorical: 'admin.','blue-collar','entrepreneur','housemaid','management','retired','self-employed','services','student','technician','unemployed','unknown')\n",
        "3. marital : marital status (categorical: 'divorced','married','single','unknown'; note: 'divorced' means divorced or widowed)\n",
        "4. education (categorical: 'basic.4y','basic.6y','basic.9y','high.school','illiterate','professional.course','university.degree','unknown')\n",
        "5. default: has credit in default? (categorical: 'no','yes','unknown')\n",
        "6. housing: has housing loan? (categorical: 'no','yes','unknown')\n",
        "7. loan: has personal loan? (categorical: 'no','yes','unknown')\n",
        "\n",
        "#### related with the last contact of the current campaign:\n",
        "8. contact: contact communication type (categorical: 'cellular','telephone')\n",
        "9. month: last contact month of year (categorical: 'jan', 'feb', 'mar', ..., 'nov', 'dec')\n",
        "10. day_of_week: last contact day of the week (categorical: 'mon','tue','wed','thu','fri')\n",
        "11. duration: last contact duration, in seconds (numeric). Important note: this attribute highly affects the output target (e.g., if duration=0 then y='no'). Yet, the duration is not known before a call is performed. Also, after the end of the call y is obviously known. Thus, this input should only be included for benchmark purposes and should be discarded if the intention is to have a realistic predictive model.\n",
        "\n",
        "#### other attributes:\n",
        "12. campaign: number of contacts performed during this campaign and for this client (numeric, includes last contact)\n",
        "13. pdays: number of days that passed by after the client was last contacted from a previous campaign (numeric; 999 means client was not previously contacted)\n",
        "14. previous: number of contacts performed before this campaign and for this client (numeric)\n",
        "15. poutcome: outcome of the previous marketing campaign (categorical: 'failure','nonexistent','success')\n",
        "\n",
        "#### social and economic context attributes\n",
        "16. emp.var.rate: employment variation rate - quarterly indicator (numeric)\n",
        "17. cons.price.idx: consumer price index - monthly indicator (numeric)\n",
        "18. cons.conf.idx: consumer confidence index - monthly indicator (numeric)\n",
        "19. euribor3m: euribor 3 month rate - daily indicator (numeric)\n",
        "20. nr.employed: number of employees - quarterly indicator (numeric)\n",
        "\n",
        "### Output variable (desired target):\n",
        "21. y - has the client subscribed a term deposit? (binary: 'yes','no')"
      ]
    },
    {
      "cell_type": "markdown",
      "metadata": {
        "id": "rJqTv9e48ldi",
        "colab_type": "text"
      },
      "source": [
        "# Solución propuesta"
      ]
    },
    {
      "cell_type": "code",
      "metadata": {
        "id": "pJxCX15X86qj",
        "colab_type": "code",
        "colab": {}
      },
      "source": [
        "# Instalación de pandas-profiling\n",
        "# ! pip install https://github.com/pandas-profiling/pandas-profiling/archive/master.zip"
      ],
      "execution_count": null,
      "outputs": []
    },
    {
      "cell_type": "markdown",
      "metadata": {
        "id": "TE7SciHJEucK",
        "colab_type": "text"
      },
      "source": [
        "## Punto No. 1 - Lectura de los datos"
      ]
    },
    {
      "cell_type": "code",
      "metadata": {
        "id": "EywhBlj683eD",
        "colab_type": "code",
        "colab": {
          "base_uri": "https://localhost:8080/",
          "height": 54
        },
        "outputId": "ed62b546-8bf2-4d15-e6c8-b3de18104966"
      },
      "source": [
        "# Importar librerias\n",
        "import pandas as pd\n",
        "import numpy as np\n",
        "import seaborn as sns\n",
        "import matplotlib.pyplot as plt\n",
        "from scipy.stats import chi2_contingency\n",
        "from pandas_profiling import ProfileReport"
      ],
      "execution_count": 2,
      "outputs": [
        {
          "output_type": "stream",
          "text": [
            "/usr/local/lib/python3.6/dist-packages/statsmodels/tools/_testing.py:19: FutureWarning: pandas.util.testing is deprecated. Use the functions in the public API at pandas.testing instead.\n",
            "  import pandas.util.testing as tm\n"
          ],
          "name": "stderr"
        }
      ]
    },
    {
      "cell_type": "code",
      "metadata": {
        "id": "GpdkHuByAVLe",
        "colab_type": "code",
        "colab": {}
      },
      "source": [
        "# Configuración de variables\n",
        "dict_variables = {\n",
        "    \"age\": np.int32,\n",
        "    \"job\": \"category\",\n",
        "    \"marital\": \"category\",\n",
        "    \"education\": \"category\",\n",
        "    \"default\": \"category\",\n",
        "    \"housing\": \"category\",\n",
        "    \"loan\": \"category\",\n",
        "    \"contact\": \"category\",\n",
        "    \"month\": \"category\",\n",
        "    \"day_of_week\": \"category\",\n",
        "    \"duration\": np.int32,\n",
        "    \"campaign\": np.int32,\n",
        "    \"pdays\": np.int32,\n",
        "    \"previous\": np.int32,\n",
        "    \"poutcome\": \"category\",\n",
        "    \"emp.var.rate\": np.float32,\n",
        "    \"cons.price.idx\": np.float32,\n",
        "    \"cons.conf.idx\": np.float32,\n",
        "    \"euribor3m\": np.float32,\n",
        "    \"nr.employed\": np.float32\n",
        "}"
      ],
      "execution_count": 3,
      "outputs": []
    },
    {
      "cell_type": "code",
      "metadata": {
        "id": "tu-1SLtR-O0t",
        "colab_type": "code",
        "colab": {}
      },
      "source": [
        "# Leer ficheros\n",
        "df = pd.read_csv('/content/drive/My Drive/cda/bank-full.csv', sep=\";\", dtype=dict_variables)\n",
        "\n",
        "# Cambiar variable y\n",
        "df.y = df.y.map({\"yes\":True, \"no\":False})"
      ],
      "execution_count": 4,
      "outputs": []
    },
    {
      "cell_type": "code",
      "metadata": {
        "id": "kXmx-HugB_Mw",
        "colab_type": "code",
        "colab": {
          "base_uri": "https://localhost:8080/",
          "height": 454
        },
        "outputId": "c56f6f7d-9da1-4211-e4db-0ceabf7f4d10"
      },
      "source": [
        "# Validación tipos de datos\n",
        "print(df.dtypes, \"\\n\")\n",
        "print(f\"La cantidad de filas es {df.shape[0]} y la cantidad de columnas es {df.shape[1]}\")"
      ],
      "execution_count": 5,
      "outputs": [
        {
          "output_type": "stream",
          "text": [
            "age                  int32\n",
            "job               category\n",
            "marital           category\n",
            "education         category\n",
            "default           category\n",
            "housing           category\n",
            "loan              category\n",
            "contact           category\n",
            "month             category\n",
            "day_of_week       category\n",
            "duration             int32\n",
            "campaign             int32\n",
            "pdays                int32\n",
            "previous             int32\n",
            "poutcome          category\n",
            "emp.var.rate       float32\n",
            "cons.price.idx     float32\n",
            "cons.conf.idx      float32\n",
            "euribor3m          float32\n",
            "nr.employed        float32\n",
            "y                     bool\n",
            "dtype: object \n",
            "\n",
            "La cantidad de filas es 41188 y la cantidad de columnas es 21\n"
          ],
          "name": "stdout"
        }
      ]
    },
    {
      "cell_type": "markdown",
      "metadata": {
        "id": "NPsxKgZdFCg3",
        "colab_type": "text"
      },
      "source": [
        "## Perfilamiento de datos"
      ]
    },
    {
      "cell_type": "code",
      "metadata": {
        "id": "WAJ1MpHoFiK4",
        "colab_type": "code",
        "colab": {}
      },
      "source": [
        "# Análisis exploratorio\n",
        "profile = ProfileReport(df, title='Bank marketing profile report', explorative=True)"
      ],
      "execution_count": 6,
      "outputs": []
    },
    {
      "cell_type": "code",
      "metadata": {
        "id": "62LzsgTWGquy",
        "colab_type": "code",
        "colab": {
          "base_uri": "https://localhost:8080/",
          "height": 49,
          "referenced_widgets": [
            "197ed799190246eb821decf3b5070ce8",
            "96a62edba9694656b85423ed2d82f424",
            "95a1a49b8401499dba198559d85828c4",
            "b98a8f99f16b46beaafdf3c7994c183b",
            "2d426fff87c548e491ab33e0051f0521",
            "425f86a69a7c4f51a0bd0e8bf02fdb16",
            "3339e2118ef24ded9cc9c43388887731",
            "ff4d6e4885044dc8b340fa532c754375"
          ]
        },
        "outputId": "657324cd-e4b9-438f-fa60-f64cc6c61ad4"
      },
      "source": [
        "profile.to_file(\"reporte.html\")"
      ],
      "execution_count": null,
      "outputs": [
        {
          "output_type": "display_data",
          "data": {
            "application/vnd.jupyter.widget-view+json": {
              "model_id": "197ed799190246eb821decf3b5070ce8",
              "version_minor": 0,
              "version_major": 2
            },
            "text/plain": [
              "HBox(children=(FloatProgress(value=0.0, description='Summarize dataset', max=35.0, style=ProgressStyle(descrip…"
            ]
          },
          "metadata": {
            "tags": []
          }
        }
      ]
    }
  ]
}